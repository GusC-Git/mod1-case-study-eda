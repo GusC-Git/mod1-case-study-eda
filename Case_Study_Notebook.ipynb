{
  "nbformat": 4,
  "nbformat_minor": 0,
  "metadata": {
    "colab": {
      "name": "Case Study Notebook",
      "provenance": []
    },
    "kernelspec": {
      "name": "python3",
      "display_name": "Python 3"
    }
  },
  "cells": [
    {
      "cell_type": "markdown",
      "metadata": {
        "id": "7D31JTMZAOcX",
        "colab_type": "text"
      },
      "source": [
        "# Step 1: Data Importing \n"
      ]
    },
    {
      "cell_type": "code",
      "metadata": {
        "id": "AqXKuVnTAdiw",
        "colab_type": "code",
        "colab": {}
      },
      "source": [
        "#Importing Librariees\n",
        "import pandas as pd \n",
        "import seaborn as sns \n",
        "import numpy as np \n",
        "import matplotlib.pyplot as plt "
      ],
      "execution_count": null,
      "outputs": []
    },
    {
      "cell_type": "code",
      "metadata": {
        "id": "fCxwrkzZAg9O",
        "colab_type": "code",
        "colab": {}
      },
      "source": [
        "#Reading File\n",
        "google_play_df= pd.read_csv(\"data/googleplaystore.csv\")  \n",
        "google_play_reviews_df = pd.read_csv(\"data/googleplaystore_user_reviews.csv\")"
      ],
      "execution_count": null,
      "outputs": []
    },
    {
      "cell_type": "markdown",
      "metadata": {
        "id": "10E-Lq1GAdSM",
        "colab_type": "text"
      },
      "source": [
        "# Step 2: Data Cleaning\n",
        "\n",
        "\n"
      ]
    },
    {
      "cell_type": "code",
      "metadata": {
        "id": "DD7g6rPqAmFM",
        "colab_type": "code",
        "colab": {}
      },
      "source": [
        "#Shifting Values for row 10472\n",
        "google_play_df.loc[10472] = google_play_df.loc[10472][1:].shift(periods=1, fill_value ='LIFESTYLE')\n",
        "google_play_df.loc[10472]['App'] = 'Life Made Wi-Fi Touchscreen Photo Frame'\n",
        "google_play_df.loc[10472]"
      ],
      "execution_count": null,
      "outputs": []
    },
    {
      "cell_type": "code",
      "metadata": {
        "id": "0cIz_iiBAu8-",
        "colab_type": "code",
        "colab": {}
      },
      "source": [
        "#Replacing NAN Values\n",
        "google_play_df['Rating'] = google_play_df['Rating'].astype(float)  \n",
        "google_play_df.at[9148, \"Type\"] = \"Free\" \n",
        "google_play_df.at[10472,'Genres'] = 'Lifestyle'\n",
        "google_play_df.at[4490,\"Android Ver\"]= \"8.0 and up\" \n",
        "google_play_df.at[4453, \"Android Ver\"]=\"8.0 and up\"\n",
        "google_play_df.at[15,\"Current Ver\"] = \"1.0.0\"\n",
        "google_play_df.at[1553,\"Current Ver\"] = \"1.0.0\" \n",
        "google_play_df.at[6322,\"Current Ver\"] = \"1.0.0\"\n",
        "google_play_df.at[6803,\"Current Ver\"] = \"1.0.0\"\n",
        "google_play_df.at[7333,\"Current Ver\"] = \"1.0.0\"\n",
        "google_play_df.at[7407,\"Current Ver\"] = \"1.0.0\" \n",
        "google_play_df.at[7730, \"Current Ver\"] = \"1.0.0\"\n",
        "google_play_df.at[10342,\"Current Ver\"] = \"1.0.0\""
      ],
      "execution_count": null,
      "outputs": []
    },
    {
      "cell_type": "code",
      "metadata": {
        "id": "vXLLSIsxcFiO",
        "colab_type": "code",
        "colab": {}
      },
      "source": [
        "#function will convert a value from a string for size into a float in megabytes.\n",
        "def size_in_megabyte_converter(val):\n",
        "    if val.endswith('M'):\n",
        "        val = float(val.replace('M',''))\n",
        "    elif val.endswith('k'):\n",
        "        val = float(val.replace('k',''))/1000\n",
        "    else:\n",
        "        val = float('NaN')\n",
        "    return val\n",
        "\n",
        "#Function will reassign a genre value as what comes first after a semicolon.\n",
        "def genres_splitter(genre):\n",
        "    if ';' in genre:\n",
        "        genre = genre.split(';')[1]\n",
        "    else:\n",
        "        genre= 'General '+genre\n",
        "    return genre\n",
        "\n",
        "#Converts price column into a float by dropping the money sign.\n",
        "def price_to_float_converter(value):\n",
        "    if value.startswith('$'):\n",
        "        value = float(value.replace('$',''))\n",
        "    else:\n",
        "        value = float(value)\n",
        "    return value"
      ],
      "execution_count": null,
      "outputs": []
    },
    {
      "cell_type": "code",
      "metadata": {
        "id": "9ZQ0hU3NcKat",
        "colab_type": "code",
        "colab": {}
      },
      "source": [
        "#Applying the functions to the columns in our dataset\n",
        "google_play_df['Genres'] = google_play_df['Genres'].apply(lambda x: genres_splitter(x))\n",
        "google_play_df['Price'] = google_play_df['Price'].apply(lambda x: price_to_float_converter(x))\n",
        "google_play_df['Size'] = google_play_df['Size'].apply(lambda x: size_in_megabyte_converter(x))"
      ],
      "execution_count": null,
      "outputs": []
    },
    {
      "cell_type": "code",
      "metadata": {
        "id": "Pcfm4Wo3Aheo",
        "colab_type": "code",
        "colab": {}
      },
      "source": [
        "#Dropping Duplicates\n",
        "to_drop = google_play_df[google_play_df.duplicated(keep='first')].sort_values(by=\"App\").index\n",
        "\n",
        "google_play_df.drop(to_drop,inplace=True)"
      ],
      "execution_count": null,
      "outputs": []
    },
    {
      "cell_type": "code",
      "metadata": {
        "id": "ULPziztFBJey",
        "colab_type": "code",
        "colab": {}
      },
      "source": [
        "#Unadjusted Data\n",
        "unadjusted_rating = sns.distplot(google_play_df['Rating']) \n",
        "to_agg_unajusted = sns.distplot(google_play_df['Rating'])\n",
        "print(to_agg_unajusted.agg([\"mean\", \"median\", \"std\"]))"
      ],
      "execution_count": null,
      "outputs": []
    },
    {
      "cell_type": "code",
      "metadata": {
        "id": "PhlCrjGOBNU6",
        "colab_type": "code",
        "colab": {}
      },
      "source": [
        "#Nan Values Dropped\n",
        "all_nan_dropped_ratings = sns.distplot(google_play_df['Rating'].dropna())\n",
        "to_agg_dropped = sns.distplot(google_play_df['Rating'].dropna())\n",
        "print(to_agg_dropped.agg([\"mean\", \"median\", \"std\"]))"
      ],
      "execution_count": null,
      "outputs": []
    },
    {
      "cell_type": "code",
      "metadata": {
        "id": "8I2ZcJrvBRoq",
        "colab_type": "code",
        "colab": {}
      },
      "source": [
        "#Mean Applied\n",
        "google_play_df[\"Rating\"].mean()\n",
        "mean_ratings_applied = sns.distplot(google_play_df['Rating'].fillna(value=google_play_df['Rating'].mean()))\n",
        "to_agg_mean = google_play_df['Rating'].fillna(value=google_play_df['Rating'].mean()) \n",
        "print(to_agg_mean.agg([\"mean\", \"median\", \"std\"])) "
      ],
      "execution_count": null,
      "outputs": []
    },
    {
      "cell_type": "code",
      "metadata": {
        "id": "6vhRV6jjBaMA",
        "colab_type": "code",
        "colab": {}
      },
      "source": [
        "#Median Applied\n",
        "google_play_df[\"Rating\"].median() \n",
        "median_ratings_applied = sns.distplot(google_play_df['Rating'].fillna(value=google_play_df[\"Rating\"].median())) \n",
        "to_agg_median = google_play_df['Rating'].fillna(value=google_play_df['Rating'].median()) \n",
        "print(to_agg_median.agg([\"mean\", \"median\", \"std\"]))"
      ],
      "execution_count": null,
      "outputs": []
    },
    {
      "cell_type": "code",
      "metadata": {
        "id": "-YaKjFWVCACb",
        "colab_type": "code",
        "colab": {}
      },
      "source": [
        "#Nan Value Count \n",
        "google_play_df.isna().sum()"
      ],
      "execution_count": null,
      "outputs": []
    },
    {
      "cell_type": "markdown",
      "metadata": {
        "id": "PAP-W9k5CElA",
        "colab_type": "text"
      },
      "source": [
        "# Question 1: \n"
      ]
    },
    {
      "cell_type": "code",
      "metadata": {
        "id": "zqyI4IUaCcMt",
        "colab_type": "code",
        "colab": {}
      },
      "source": [
        "#Grouping Data\n",
        "categorical_grouping = google_play_df.groupby([\"Category\",\"Rating\"]).head() \n",
        "categorical_grouping"
      ],
      "execution_count": null,
      "outputs": []
    },
    {
      "cell_type": "code",
      "metadata": {
        "id": "sxoWDcIyChiG",
        "colab_type": "code",
        "colab": {}
      },
      "source": [
        "#Rating Mean Sorted \n",
        "rating_mean_sorted = categorical_grouping.groupby([\"Category\"]).mean() \n",
        "rating_mean_sorted"
      ],
      "execution_count": null,
      "outputs": []
    },
    {
      "cell_type": "code",
      "metadata": {
        "id": "T5zDhTccx3Cg",
        "colab_type": "code",
        "colab": {}
      },
      "source": [
        "#Ordered Categories\n",
        "cat_rating_series = google_play_df.groupby(\"Category\").agg(np.mean)[\"Rating\"].sort_values(ascending=False)\n",
        "cat_rating_series "
      ],
      "execution_count": null,
      "outputs": []
    },
    {
      "cell_type": "code",
      "metadata": {
        "id": "9BE28KVECnfR",
        "colab_type": "code",
        "colab": {}
      },
      "source": [
        "#Graphed Values\n",
        "plt.figure(figsize=(20,5))\n",
        "q1_visual = sns.barplot(x=\"Category\", y=\"Rating\", data=categorical_grouping)\n",
        "q1_visual.set_xticklabels(q1_visual.get_xticklabels(), rotation=90) \n",
        "q1_visual.set_title(\"Rating By Category\")  "
      ],
      "execution_count": null,
      "outputs": []
    },
    {
      "cell_type": "code",
      "metadata": {
        "id": "HLrwwuSGCrwc",
        "colab_type": "code",
        "colab": {}
      },
      "source": [
        "#Top 5 Category Means \n",
        "top_5 = rating_mean_sorted.loc[rating_mean_sorted[\"Rating\"] >= 4.26]  \n",
        "top_5_ordered = top_5.sort_values(['Rating'])\n",
        "top_5_ordered"
      ],
      "execution_count": null,
      "outputs": []
    },
    {
      "cell_type": "code",
      "metadata": {
        "id": "sAx7hPdKFXyY",
        "colab_type": "code",
        "colab": {}
      },
      "source": [
        "#Agg Functions for Grouped Dataframe \n",
        "df= pd.read_csv(\"data/googleplaystore.csv\") \n",
        "grouped = df.groupby([\"Category\", \"App\"])[\"Rating\"].agg(['mean', 'min', 'max', 'std'])        \n",
        "grouped"
      ],
      "execution_count": null,
      "outputs": []
    },
    {
      "cell_type": "markdown",
      "metadata": {
        "id": "COqF4sBfCygM",
        "colab_type": "text"
      },
      "source": [
        "# Question 2:\n"
      ]
    },
    {
      "cell_type": "code",
      "metadata": {
        "id": "axvZNyM7vf6o",
        "colab_type": "code",
        "colab": {}
      },
      "source": [
        "q2_subset = google_play_df[(google_play_df['Rating'].isna() ==False)\\\n",
        "                           & (google_play_df['Size'].isna() == False)]\n",
        "q2_smallset = q2_subset[q2_subset['Size'] <1.0]\n",
        "q2_sm_g = sns.jointplot(data = q2_smallset, x='Size',y='Rating', kind='hex')\n"
      ],
      "execution_count": null,
      "outputs": []
    },
    {
      "cell_type": "code",
      "metadata": {
        "id": "SGXrfXzGvgCw",
        "colab_type": "code",
        "colab": {}
      },
      "source": [
        "q2_midset = q2_subset[(q2_subset['Size']>=1.0)&(q2_subset['Size']<10.0)]\n",
        "q2_m_g = sns.jointplot(data=q2_midset, x='Size', y='Rating',kind='hex')"
      ],
      "execution_count": null,
      "outputs": []
    },
    {
      "cell_type": "code",
      "metadata": {
        "id": "828SGexQjJ7e",
        "colab_type": "code",
        "colab": {}
      },
      "source": [
        "q2_largeset = q2_subset[q2_subset['Size']>=10.0]\n",
        "q2_lg_g = sns.jointplot(data=q2_largeset, x='Size', y='Rating', kind=\"hex\")"
      ],
      "execution_count": null,
      "outputs": []
    },
    {
      "cell_type": "code",
      "metadata": {
        "id": "2Vbs_6XijKNy",
        "colab_type": "code",
        "colab": {}
      },
      "source": [
        "big_graph = sns.jointplot(data=q2_subset, x='Size', y='Rating', kind=\"hex\",height=8)\n",
        "big_graph.fig.suptitle('Distribution Density of Size vs. Rating')\n",
        "plt.show()"
      ],
      "execution_count": null,
      "outputs": []
    },
    {
      "cell_type": "markdown",
      "metadata": {
        "id": "nixWHIvY_uGa",
        "colab_type": "text"
      },
      "source": [
        "What is the Correlation between Size and Rating?\n"
      ]
    },
    {
      "cell_type": "code",
      "metadata": {
        "id": "IlGZzNmA_zv6",
        "colab_type": "code",
        "colab": {}
      },
      "source": [
        "q2_subset['Size'].corr(q2_subset['Rating'], method='pearson')"
      ],
      "execution_count": null,
      "outputs": []
    },
    {
      "cell_type": "markdown",
      "metadata": {
        "id": "kgg3-Qn-_1-_",
        "colab_type": "text"
      },
      "source": [
        "It is 0.08233. Very Low almost no correlation"
      ]
    },
    {
      "cell_type": "markdown",
      "metadata": {
        "id": "0Jfmtzf9C1JZ",
        "colab_type": "text"
      },
      "source": [
        "# For this next section, choose a category of Playstore Apps\n",
        "# Category Chosen: Education"
      ]
    },
    {
      "cell_type": "markdown",
      "metadata": {
        "id": "P5aSByegDBLe",
        "colab_type": "text"
      },
      "source": [
        "# Question 3:\n"
      ]
    },
    {
      "cell_type": "code",
      "metadata": {
        "id": "Pw6z-edXRGdG",
        "colab_type": "code",
        "colab": {}
      },
      "source": [
        "#Exploring Unique Genre Enteries\n",
        "df[\"Genres\"].unique()  \n",
        "print(len(education)) \n",
        "education = google_play_df.loc[(df[\"Category\"] == \"EDUCATION\")]  \n",
        "education[\"Genres\"].unique()"
      ],
      "execution_count": null,
      "outputs": []
    },
    {
      "cell_type": "code",
      "metadata": {
        "id": "gYZsXpK8nd9k",
        "colab_type": "code",
        "colab": {}
      },
      "source": [
        "#Setting the index by Genre\n",
        "education.set_index([\"Category\", \"Genres\"], inplace = True)"
      ],
      "execution_count": null,
      "outputs": []
    },
    {
      "cell_type": "code",
      "metadata": {
        "id": "mZxIQEy7vSkL",
        "colab_type": "code",
        "colab": {}
      },
      "source": [
        "#Value Count Of Each Genre \n",
        "education = education.groupby('Genres')['App'].nunique()  \n",
        "education"
      ],
      "execution_count": null,
      "outputs": []
    },
    {
      "cell_type": "code",
      "metadata": {
        "id": "obTpeW9u32zM",
        "colab_type": "code",
        "colab": {}
      },
      "source": [
        "#x = [\"General Education\", \"Creativity\", \"Music & Video\", \"Action & Adventure\", \"Pretend Play\", \"Brain Games\"] \n",
        "y = [107, 3, 1, 1, 4, 3]"
      ],
      "execution_count": null,
      "outputs": []
    },
    {
      "cell_type": "code",
      "metadata": {
        "id": "aeormdiU34RQ",
        "colab_type": "code",
        "colab": {}
      },
      "source": [
        "#Graphed \n",
        "genres = sns.barplot(x=x, y=y)\n",
        "genres.set_xticklabels(genres.get_xticklabels(), rotation=90) \n",
        "genres.set_title(\"Genre Distribution\") "
      ],
      "execution_count": null,
      "outputs": []
    },
    {
      "cell_type": "markdown",
      "metadata": {
        "id": "tKbVd1nqDHq8",
        "colab_type": "text"
      },
      "source": [
        "\n",
        "# Question 4: "
      ]
    },
    {
      "cell_type": "markdown",
      "metadata": {
        "id": "jEgMb9f28x64",
        "colab_type": "text"
      },
      "source": [
        "What we will investigate: How does sentiment affect the rating, and how do other factors affect the sentiment?"
      ]
    },
    {
      "cell_type": "code",
      "metadata": {
        "id": "ucinaPW55IHL",
        "colab_type": "code",
        "colab": {}
      },
      "source": [
        "#Import the data and look at how many unique apps there are\n",
        "google_play_reviews_df = pd.read_csv(\"data/googleplaystore_user_reviews.csv\")\n",
        "len(google_play_reviews_df['App'].unique())"
      ],
      "execution_count": null,
      "outputs": []
    },
    {
      "cell_type": "code",
      "metadata": {
        "id": "UyI9_pGq5IVQ",
        "colab_type": "code",
        "colab": {}
      },
      "source": [
        "#Group the data by apps and get the mean of the sentiment and polarity\n",
        "grouped_play_reviews = google_play_reviews_df.groupby(google_play_reviews_df['App']).mean()\n",
        "\n",
        "#Then we drop any nan's from the sentiment data\n",
        "grouped_play_reviews.dropna(inplace=True)"
      ],
      "execution_count": null,
      "outputs": []
    },
    {
      "cell_type": "code",
      "metadata": {
        "id": "oSA6IHk45Ie2",
        "colab_type": "code",
        "colab": {}
      },
      "source": [
        "#Combine the google play data with the grouped sentiment data into it's own dataframe\n",
        "merged_data = pd.merge(left=google_play_df, right=grouped_play_reviews, how='inner',on='App')\n",
        "print(len(merged_data))\n"
      ],
      "execution_count": null,
      "outputs": []
    },
    {
      "cell_type": "code",
      "metadata": {
        "id": "bysY8tRObfGL",
        "colab_type": "code",
        "colab": {}
      },
      "source": [
        "#We Cahnge the name of columns to make them more in line with already existing columns in our data\n",
        "merged_data = merged_data.rename(columns= {'Sentiment_Polarity':'Sentiment Polarity', 'Sentiment_Subjectivity':'Sentiment Subjectivity'})\n",
        "merged_data['Reviews'] = merged_data['Reviews'].astype(int)"
      ],
      "execution_count": null,
      "outputs": []
    },
    {
      "cell_type": "code",
      "metadata": {
        "id": "flX3akMTbqBa",
        "colab_type": "code",
        "colab": {}
      },
      "source": [
        "#We create a column called polarity type that tells us where a review was positive or negative\n",
        "merged_data['Polarity Type'] = merged_data['Sentiment Polarity'].apply(lambda x: 'Positive' if x>0 else 'Negative')"
      ],
      "execution_count": null,
      "outputs": []
    },
    {
      "cell_type": "code",
      "metadata": {
        "id": "PhCjxFd2b3SU",
        "colab_type": "code",
        "colab": {}
      },
      "source": [
        "#We create a facet grid that give us data on how whether our data is affected by type or content rating\n",
        "g = sns.FacetGrid(merged_data, row= 'Type',col = 'Content Rating', hue= 'Polarity Type')\n",
        "g = g.map(plt.scatter,'Sentiment Polarity', 'Rating')"
      ],
      "execution_count": null,
      "outputs": []
    },
    {
      "cell_type": "code",
      "metadata": {
        "id": "KgK7mZBZcH-t",
        "colab_type": "code",
        "colab": {}
      },
      "source": [
        "# We create a boxplot that compares the polarities and the rating\n",
        "sns.boxplot(data= merged_data, x='Polarity Type', y='Rating')"
      ],
      "execution_count": null,
      "outputs": []
    },
    {
      "cell_type": "code",
      "metadata": {
        "id": "DImySmBacQTU",
        "colab_type": "code",
        "colab": {}
      },
      "source": [
        "# We create another boxplot comparing Sentiment Subjectivity to the polarities\n",
        "sns.boxplot(data= merged_data, x='Polarity Type', y='Sentiment Subjectivity', whis =3)"
      ],
      "execution_count": null,
      "outputs": []
    }
  ]
}